{
 "cells": [
  {
   "cell_type": "markdown",
   "metadata": {},
   "source": [
    "# utils"
   ]
  },
  {
   "cell_type": "code",
   "execution_count": 1,
   "metadata": {},
   "outputs": [],
   "source": [
    "import io \n",
    "import os\n",
    "import unicodedata\n",
    "import string\n",
    "import glob\n",
    "\n",
    "import random\n",
    "import torch"
   ]
  },
  {
   "cell_type": "code",
   "execution_count": 2,
   "metadata": {},
   "outputs": [],
   "source": [
    "# alphabet small + capital letters + \" .,;'\"\n",
    "ALL_LETTERS = string.ascii_letters + \" .,;\"\n",
    "N_LETTERS =  len(ALL_LETTERS)"
   ]
  },
  {
   "cell_type": "code",
   "execution_count": 3,
   "metadata": {},
   "outputs": [
    {
     "data": {
      "text/plain": [
       "str"
      ]
     },
     "execution_count": 3,
     "metadata": {},
     "output_type": "execute_result"
    }
   ],
   "source": [
    "type(ALL_LETTERS)"
   ]
  },
  {
   "cell_type": "code",
   "execution_count": 4,
   "metadata": {},
   "outputs": [
    {
     "data": {
      "text/plain": [
       "'h'"
      ]
     },
     "execution_count": 4,
     "metadata": {},
     "output_type": "execute_result"
    }
   ],
   "source": [
    "ALL_LETTERS[7]"
   ]
  },
  {
   "cell_type": "code",
   "execution_count": 5,
   "metadata": {},
   "outputs": [],
   "source": [
    "#turn unicpde sdtring into plain ascii\n",
    "def unicode_to_ascii(s):\n",
    "    return ''.join(c for c in unicodedata.normalize('NFD', s) if unicodedata.category(c) !='Mn' and c in ALL_LETTERS)"
   ]
  },
  {
   "cell_type": "code",
   "execution_count": 6,
   "metadata": {},
   "outputs": [
    {
     "name": "stdout",
     "output_type": "stream",
     "text": [
      "<_io.TextIOWrapper name='French.txt' mode='r' encoding='utf-8'>\n"
     ]
    }
   ],
   "source": [
    "z = io.open('French.txt', encoding='utf-8')\n",
    "print(z)"
   ]
  },
  {
   "cell_type": "code",
   "execution_count": 7,
   "metadata": {},
   "outputs": [
    {
     "name": "stdout",
     "output_type": "stream",
     "text": [
      "Abel\n",
      "Abraham\n",
      "Adam\n",
      "Albert\n",
      "Allard\n",
      "Archambault\n",
      "Armist\n"
     ]
    }
   ],
   "source": [
    "a = io.open('French.txt', encoding='utf-8').read()\n",
    "print(a[0:50])"
   ]
  },
  {
   "cell_type": "code",
   "execution_count": 8,
   "metadata": {},
   "outputs": [
    {
     "data": {
      "text/plain": [
       "2162"
      ]
     },
     "execution_count": 8,
     "metadata": {},
     "output_type": "execute_result"
    }
   ],
   "source": [
    "len(a)"
   ]
  },
  {
   "cell_type": "code",
   "execution_count": 9,
   "metadata": {},
   "outputs": [
    {
     "data": {
      "text/plain": [
       "str"
      ]
     },
     "execution_count": 9,
     "metadata": {},
     "output_type": "execute_result"
    }
   ],
   "source": [
    "type(a)"
   ]
  },
  {
   "cell_type": "code",
   "execution_count": 10,
   "metadata": {},
   "outputs": [
    {
     "name": "stdout",
     "output_type": "stream",
     "text": [
      "Abel\n",
      "Abraham\n",
      "Adam\n",
      "Albert\n",
      "Allard\n",
      "Archambault\n",
      "Armist\n"
     ]
    }
   ],
   "source": [
    "b = a.strip()\n",
    "print(b[0:50])"
   ]
  },
  {
   "cell_type": "code",
   "execution_count": 11,
   "metadata": {},
   "outputs": [
    {
     "data": {
      "text/plain": [
       "str"
      ]
     },
     "execution_count": 11,
     "metadata": {},
     "output_type": "execute_result"
    }
   ],
   "source": [
    "type(b)"
   ]
  },
  {
   "cell_type": "code",
   "execution_count": 12,
   "metadata": {},
   "outputs": [
    {
     "data": {
      "text/plain": [
       "['Abel', 'Abraham', 'Adam', 'Albert', 'Allard']"
      ]
     },
     "execution_count": 12,
     "metadata": {},
     "output_type": "execute_result"
    }
   ],
   "source": [
    "c = b.split('\\n')\n",
    "c[0:5]"
   ]
  },
  {
   "cell_type": "code",
   "execution_count": 13,
   "metadata": {},
   "outputs": [
    {
     "data": {
      "text/plain": [
       "list"
      ]
     },
     "execution_count": 13,
     "metadata": {},
     "output_type": "execute_result"
    }
   ],
   "source": [
    "type(c)"
   ]
  },
  {
   "cell_type": "code",
   "execution_count": 14,
   "metadata": {},
   "outputs": [
    {
     "data": {
      "text/plain": [
       "277"
      ]
     },
     "execution_count": 14,
     "metadata": {},
     "output_type": "execute_result"
    }
   ],
   "source": [
    "len(c)"
   ]
  },
  {
   "cell_type": "code",
   "execution_count": 22,
   "metadata": {},
   "outputs": [],
   "source": [
    "def load_data():\n",
    "    category_lines = {}\n",
    "    all_categories = []\n",
    "    \n",
    "    def find_files(path):\n",
    "        return glob.glob(path,recursive=True)\n",
    "    \n",
    "    #read file and split into liens\n",
    "    def read_lines(filename):\n",
    "        lines = io.open(filename, encoding='utf-8').read().strip().split('\\n')\n",
    "        return [unicode_to_ascii(line) for line in lines]\n",
    "    \n",
    "    for filename in find_files(\"M:/DL/TEXT/from scratch/surname _rnn_data/names/*.txt\"):\n",
    "        category = os.path.splitext(os.path.basename(filename))[0]\n",
    "        all_categories.append(category)\n",
    "        \n",
    "        lines = read_lines(filename)\n",
    "        category_lines[category] = lines\n",
    "        \n",
    "    return category_lines, all_categories\n"
   ]
  },
  {
   "cell_type": "code",
   "execution_count": 23,
   "metadata": {},
   "outputs": [
    {
     "name": "stdout",
     "output_type": "stream",
     "text": [
      "['Arabic', 'Chinese', 'Czech', 'Dutch', 'English', 'French', 'German', 'Greek', 'Irish', 'Italian', 'Japanese', 'Korean', 'Polish', 'Portuguese', 'Russian', 'Scottish', 'Spanish', 'Vietnamese']\n"
     ]
    }
   ],
   "source": [
    "x , y = load_data()\n",
    "print(y)"
   ]
  },
  {
   "cell_type": "code",
   "execution_count": 24,
   "metadata": {
    "scrolled": true
   },
   "outputs": [
    {
     "name": "stdout",
     "output_type": "stream",
     "text": [
      "['Abel', 'Abraham', 'Adam', 'Albert', 'Allard', 'Archambault', 'Armistead', 'Arthur', 'Augustin', 'Babineaux', 'Baudin', 'Beauchene', 'Beaulieu', 'Beaumont', 'Belanger', 'Bellamy', 'Bellerose', 'Belrose', 'Berger', 'Beringer', 'Bernard', 'Bertrand', 'Bisset', 'Bissette', 'Blaise', 'Blanc', 'Blanchet', 'Blanchett', 'Bonfils', 'Bonheur', 'Bonhomme', 'Bonnaire', 'Bonnay', 'Bonner', 'Bonnet', 'Borde', 'Bordelon', 'Bouchard', 'Boucher', 'Brisbois', 'Brodeur', 'Bureau', 'Caron', 'Cavey', 'Chaput', 'Charbonneau', 'Charpentier', 'Charron', 'Chastain', 'Chevalier', 'Chevrolet', 'Cloutier', 'Colbert', 'Comtois', 'Cornett', 'Cote', 'Coupe', 'Courtemanche', 'Cousineau', 'Couture', 'Daniau', 'Daramitz', 'Daviau', 'David', 'Deforest', 'Degarmo', 'Delacroix', 'De la fontaine', 'Deniau', 'Deniaud', 'Deniel', 'Denis', 'De sauveterre', 'Deschamps', 'Descoteaux', 'Desjardins', 'Desrochers', 'Desrosiers', 'Dubois', 'Duchamps', 'Dufort', 'Dufour', 'Duguay', 'Dupond', 'Dupont', 'Durand', 'Durant', 'Duval', 'Emile', 'Eustis', 'Fabian', 'Fabre', 'Fabron', 'Faucher', 'Faucheux', 'Faure', 'Favager', 'Favre', 'Favreau', 'Fay', 'Felix', 'Firmin', 'Fontaine', 'Forest', 'Forestier', 'Fortier', 'Foss', 'Fournier', 'Gage', 'Gagne', 'Gagnier', 'Gagnon', 'Garcon', 'Gardinier', 'Germain', 'Geroux', 'Giles', 'Girard', 'Giroux', 'Glaisyer', 'Gosse', 'Gosselin', 'Granger', 'Guerin', 'Guillory', 'Hardy', 'Harman', 'Hebert', 'Herbert', 'Herriot', 'Jacques', 'Janvier', 'Jordan', 'Joubert', 'Labelle', 'Lachance', 'Lachapelle', 'Lamar', 'Lambert', 'Lane', 'Langlais', 'Langlois', 'Lapointe', 'Larue', 'Laurent', 'Lavigne', 'Lavoie', 'Leandres', 'Lebeau', 'Leblanc', 'Leclair', 'Leclerc', 'Lecuyer', 'Lefebvre', 'Lefevre', 'Lefurgey', 'Legrand', 'Lemaire', 'Lemieux', 'Leon', 'Leroy', 'Lesauvage', 'Lestrange', 'Leveque', 'Levesque', 'Linville', 'Lyon', 'Lyon', 'Macon', 'Marchand', 'Marie', 'Marion', 'Martel', 'Martel', 'Martin', 'Masson', 'Masson', 'Mathieu', 'Mercier', 'Merle', 'Michaud', 'Michel', 'Monet', 'Monette', 'Montagne', 'Moreau', 'Moulin', 'Mullins', 'Noel', 'Oliver', 'Olivier', 'Page', 'Paget', 'Palomer', 'Pan', 'Pape', 'Paquet', 'Paquet', 'Parent', 'Paris', 'Parris', 'Pascal', 'Patenaude', 'Paternoster', 'Paul', 'Pelletier', 'Perrault', 'Perreault', 'Perrot', 'Petit', 'Pettigrew', 'Pierre', 'Plamondon', 'Plourde', 'Poingdestre', 'Poirier', 'Porcher', 'Poulin', 'Proulx', 'Renaud', 'Rey', 'Reyer', 'Richard', 'Richelieu', 'Robert', 'Roche', 'Rome', 'Romilly', 'Rose', 'Rousseau', 'Roux', 'Roy', 'Royer', 'Salomon', 'Salvage', 'Samson', 'Samuel', 'Sargent', 'Sarkozi', 'Sarkozy', 'Sartre', 'Sault', 'Sauvage', 'Sauvageau', 'Sauvageon', 'Sauvageot', 'Sauveterre', 'Savatier', 'Segal', 'Sergeant', 'Severin', 'Simon', 'Solomon', 'Soucy', 'St martin', 'St pierre', 'Tailler', 'Tasse', 'Thayer', 'Thibault', 'Thomas', 'Tobias', 'Tolbert', 'Traver', 'Travere', 'Travers', 'Traverse', 'Travert', 'Tremblay', 'Tremble', 'Victor', 'Victors', 'Villeneuve', 'Vincent', 'Vipond', 'Voclain', 'Yount']\n"
     ]
    }
   ],
   "source": [
    "print(x['French'])"
   ]
  },
  {
   "cell_type": "markdown",
   "metadata": {},
   "source": [
    "## now convert to tensors"
   ]
  },
  {
   "cell_type": "code",
   "execution_count": 25,
   "metadata": {},
   "outputs": [
    {
     "name": "stdout",
     "output_type": "stream",
     "text": [
      "23\n",
      "a 0\n",
      "b 1\n",
      "c 2\n",
      "d 3\n",
      "e 4\n",
      "f 5\n",
      "g 6\n"
     ]
    }
   ],
   "source": [
    "def letter_index(letter):\n",
    "    return ALL_LETTERS.find(letter)\n",
    "\n",
    "print(letter_index('x'))\n",
    "\n",
    "for i in ALL_LETTERS[0:7]:\n",
    "    print(i,letter_index(i))"
   ]
  },
  {
   "cell_type": "code",
   "execution_count": 26,
   "metadata": {},
   "outputs": [
    {
     "name": "stdout",
     "output_type": "stream",
     "text": [
      "<class 'torch.Tensor'>\n",
      "torch.Size([1, 56])\n",
      "tensor([[0., 0., 0., 0., 0., 0., 0., 0., 1., 0., 0., 0., 0., 0., 0., 0., 0., 0.,\n",
      "         0., 0., 0., 0., 0., 0., 0., 0., 0., 0., 0., 0., 0., 0., 0., 0., 0., 0.,\n",
      "         0., 0., 0., 0., 0., 0., 0., 0., 0., 0., 0., 0., 0., 0., 0., 0., 0., 0.,\n",
      "         0., 0.]])\n"
     ]
    }
   ],
   "source": [
    "# Just for demonstration, turn a letter into a (1 x n_letters) Tensor\n",
    "def letter_to_tensor(letter):\n",
    "    tensor = torch.zeros(1, N_LETTERS)\n",
    "    tensor[0][letter_index(letter)]=1\n",
    "    return tensor\n",
    "\n",
    "itensor =  letter_to_tensor('i')\n",
    "print(type(itensor))\n",
    "print(itensor.shape)\n",
    "print(itensor)"
   ]
  },
  {
   "cell_type": "code",
   "execution_count": 27,
   "metadata": {},
   "outputs": [
    {
     "name": "stdout",
     "output_type": "stream",
     "text": [
      "torch.Size([7, 1, 56])\n",
      "tensor([[[0., 0., 0., 0., 0., 0., 0., 0., 0., 0., 0., 0., 0., 0., 0., 0., 0.,\n",
      "          0., 1., 0., 0., 0., 0., 0., 0., 0., 0., 0., 0., 0., 0., 0., 0., 0.,\n",
      "          0., 0., 0., 0., 0., 0., 0., 0., 0., 0., 0., 0., 0., 0., 0., 0., 0.,\n",
      "          0., 0., 0., 0., 0.]],\n",
      "\n",
      "        [[0., 0., 0., 0., 0., 0., 0., 0., 0., 0., 0., 0., 0., 0., 0., 0., 0.,\n",
      "          0., 0., 0., 1., 0., 0., 0., 0., 0., 0., 0., 0., 0., 0., 0., 0., 0.,\n",
      "          0., 0., 0., 0., 0., 0., 0., 0., 0., 0., 0., 0., 0., 0., 0., 0., 0.,\n",
      "          0., 0., 0., 0., 0.]],\n",
      "\n",
      "        [[0., 0., 1., 0., 0., 0., 0., 0., 0., 0., 0., 0., 0., 0., 0., 0., 0.,\n",
      "          0., 0., 0., 0., 0., 0., 0., 0., 0., 0., 0., 0., 0., 0., 0., 0., 0.,\n",
      "          0., 0., 0., 0., 0., 0., 0., 0., 0., 0., 0., 0., 0., 0., 0., 0., 0.,\n",
      "          0., 0., 0., 0., 0.]],\n",
      "\n",
      "        [[0., 0., 1., 0., 0., 0., 0., 0., 0., 0., 0., 0., 0., 0., 0., 0., 0.,\n",
      "          0., 0., 0., 0., 0., 0., 0., 0., 0., 0., 0., 0., 0., 0., 0., 0., 0.,\n",
      "          0., 0., 0., 0., 0., 0., 0., 0., 0., 0., 0., 0., 0., 0., 0., 0., 0.,\n",
      "          0., 0., 0., 0., 0.]],\n",
      "\n",
      "        [[0., 0., 0., 0., 0., 0., 0., 0., 1., 0., 0., 0., 0., 0., 0., 0., 0.,\n",
      "          0., 0., 0., 0., 0., 0., 0., 0., 0., 0., 0., 0., 0., 0., 0., 0., 0.,\n",
      "          0., 0., 0., 0., 0., 0., 0., 0., 0., 0., 0., 0., 0., 0., 0., 0., 0.,\n",
      "          0., 0., 0., 0., 0.]],\n",
      "\n",
      "        [[0., 0., 0., 0., 0., 0., 0., 0., 0., 0., 0., 0., 0., 1., 0., 0., 0.,\n",
      "          0., 0., 0., 0., 0., 0., 0., 0., 0., 0., 0., 0., 0., 0., 0., 0., 0.,\n",
      "          0., 0., 0., 0., 0., 0., 0., 0., 0., 0., 0., 0., 0., 0., 0., 0., 0.,\n",
      "          0., 0., 0., 0., 0.]],\n",
      "\n",
      "        [[0., 0., 0., 0., 0., 0., 0., 0., 0., 0., 0., 0., 0., 0., 0., 0., 0.,\n",
      "          0., 0., 1., 0., 0., 0., 0., 0., 0., 0., 0., 0., 0., 0., 0., 0., 0.,\n",
      "          0., 0., 0., 0., 0., 0., 0., 0., 0., 0., 0., 0., 0., 0., 0., 0., 0.,\n",
      "          0., 0., 0., 0., 0.]]])\n"
     ]
    }
   ],
   "source": [
    "# Turn a line into a <line_length x 1 x n_letters>,\n",
    "# or an array of one-hot letter vectors\n",
    "\n",
    "def line_tensor(line):\n",
    "    tensor = torch.zeros(len(line), 1, N_LETTERS)\n",
    "    for i, letter in enumerate(line):\n",
    "        tensor[i][0][letter_index(letter)]=1\n",
    "    return tensor\n",
    "\n",
    "wordtensor = line_tensor('succint')\n",
    "print(wordtensor.shape)\n",
    "print(wordtensor)\n",
    "    \n"
   ]
  },
  {
   "cell_type": "code",
   "execution_count": null,
   "metadata": {},
   "outputs": [],
   "source": []
  },
  {
   "cell_type": "code",
   "execution_count": 28,
   "metadata": {},
   "outputs": [
    {
     "name": "stdout",
     "output_type": "stream",
     "text": [
      "5\n"
     ]
    }
   ],
   "source": [
    "category_lines, all_categories = load_data()\n",
    "print(all_categories.index('French'))\n"
   ]
  },
  {
   "cell_type": "code",
   "execution_count": 29,
   "metadata": {},
   "outputs": [],
   "source": [
    "def random_train_example(category_lines, all_categories):\n",
    "    def random_choice(a):\n",
    "        random_idx = random.randint(0, len(a)-1)\n",
    "        return a[random_idx]\n",
    "    \n",
    "    category = random_choice(all_categories)\n",
    "    line = random_choice(category_lines[category])\n",
    "    category_tensor = torch.tensor([all_categories.index(category)], dtype = torch.long)\n",
    "    linetensor = line_tensor(line)\n",
    "    return category, line, category_tensor, linetensor\n"
   ]
  },
  {
   "cell_type": "code",
   "execution_count": 30,
   "metadata": {},
   "outputs": [
    {
     "name": "stdout",
     "output_type": "stream",
     "text": [
      "Korean Hong torch.Size([1]) torch.Size([4, 1, 56]) <class 'torch.Tensor'> <class 'torch.Tensor'> torch.int64 torch.float32\n"
     ]
    }
   ],
   "source": [
    "category_lines, all_categories = load_data()\n",
    "p,q,r,s = random_train_example(category_lines, all_categories)\n",
    "\n",
    "print(p,q,r.shape,s.shape,type(r), type(s),r.dtype, s.dtype)"
   ]
  },
  {
   "cell_type": "markdown",
   "metadata": {},
   "source": [
    "# model"
   ]
  },
  {
   "cell_type": "code",
   "execution_count": 31,
   "metadata": {},
   "outputs": [
    {
     "name": "stdout",
     "output_type": "stream",
     "text": [
      "torch.Size([1, 1])\n",
      "tensor([[2, 3]]) tensor([[2],\n",
      "        [3]])\n",
      "torch.Size([1, 2]) torch.Size([2, 1])\n"
     ]
    }
   ],
   "source": [
    "ed = torch.tensor([[2]])\n",
    "fg = torch.tensor([[3]])\n",
    "ss = torch.cat((ed,fg),0) #default dimension\n",
    "ds = torch.cat((ed,fg), 1)\n",
    "print(ed.shape)\n",
    "print(ds, ss)\n",
    "print(ds.shape, ss.shape)"
   ]
  },
  {
   "cell_type": "code",
   "execution_count": 32,
   "metadata": {},
   "outputs": [],
   "source": [
    "import torch\n",
    "import torch.nn as nn\n",
    "import matplotlib.pyplot as plt\n",
    "\n",
    "# from utils import ALL_LETTERS, N_LETTERS\n",
    "# from utils import letter_index, letter_to_tensor, line_tensor, random_train_example\n",
    "\n",
    "class RNN(nn.Module):\n",
    "    def __init__(self, input_size, hidden_size, output_size):\n",
    "        super(RNN, self).__init__()\n",
    "        \n",
    "        self.hidden_size = hidden_size\n",
    "        self.i2h = nn.Linear(input_size + hidden_size, hidden_size)\n",
    "        self.i2o = nn.Linear(input_size + hidden_size, output_size)\n",
    "        self.softmax = nn.LogSoftmax(dim = 1)\n",
    "        \n",
    "    def forward(self, input_tensor, hidden_tensor):\n",
    "            \n",
    "        combined = torch.cat((input_tensor, hidden_tensor), 1)\n",
    "\n",
    "        hidden = self.i2h(combined)\n",
    "        output = self.i2o(combined)\n",
    "        output = self.softmax(output)\n",
    "        return output, hidden, combined\n",
    "        \n",
    "    def init_hidden(self):\n",
    "        return torch.zeros(1, self.hidden_size)\n",
    "        \n",
    "    "
   ]
  },
  {
   "cell_type": "code",
   "execution_count": 33,
   "metadata": {},
   "outputs": [],
   "source": [
    "N_LETTERS\n",
    "category_lines, all_categories = load_data()\n",
    "n_categories = len(all_categories)\n",
    "n_hidden = 128\n",
    "rnn = RNN(N_LETTERS,n_hidden,n_categories)"
   ]
  },
  {
   "cell_type": "code",
   "execution_count": 34,
   "metadata": {},
   "outputs": [
    {
     "data": {
      "text/plain": [
       "Linear(in_features=184, out_features=128, bias=True)"
      ]
     },
     "execution_count": 34,
     "metadata": {},
     "output_type": "execute_result"
    }
   ],
   "source": [
    "rnn.i2h"
   ]
  },
  {
   "cell_type": "markdown",
   "metadata": {},
   "source": [
    "## for letter "
   ]
  },
  {
   "cell_type": "code",
   "execution_count": 35,
   "metadata": {},
   "outputs": [],
   "source": [
    "input_tensor = letter_to_tensor('A')\n",
    "hidden_tensor = rnn.init_hidden()\n",
    "\n",
    "output, next_hidden, combined = rnn(input_tensor, hidden_tensor)"
   ]
  },
  {
   "cell_type": "code",
   "execution_count": 36,
   "metadata": {},
   "outputs": [
    {
     "name": "stdout",
     "output_type": "stream",
     "text": [
      "torch.Size([1, 56])\n",
      "torch.Size([1, 128])\n",
      "torch.Size([1, 184])\n",
      "torch.Size([1, 18])\n",
      "torch.Size([1, 128])\n"
     ]
    }
   ],
   "source": [
    "print(input_tensor.shape)\n",
    "print(hidden_tensor.shape)\n",
    "print(combined.shape)\n",
    "\n",
    "print(output.shape)\n",
    "print(next_hidden.shape)\n"
   ]
  },
  {
   "cell_type": "markdown",
   "metadata": {},
   "source": [
    "## for word"
   ]
  },
  {
   "cell_type": "code",
   "execution_count": 37,
   "metadata": {},
   "outputs": [],
   "source": [
    "input_tensor = line_tensor('Albert')\n",
    "hidden_tensor = rnn.init_hidden()\n",
    "\n",
    "output, next_hidden, combined = rnn(input_tensor[0], hidden_tensor)"
   ]
  },
  {
   "cell_type": "code",
   "execution_count": 38,
   "metadata": {},
   "outputs": [
    {
     "name": "stdout",
     "output_type": "stream",
     "text": [
      "torch.Size([6, 1, 56])\n",
      "torch.Size([1, 128])\n",
      "torch.Size([1, 184])\n",
      "torch.Size([1, 18])\n",
      "torch.Size([1, 128])\n"
     ]
    }
   ],
   "source": [
    "print(input_tensor.shape)\n",
    "print(hidden_tensor.shape)\n",
    "print(combined.shape)\n",
    "\n",
    "print(output.shape)\n",
    "print(next_hidden.shape)\n"
   ]
  },
  {
   "cell_type": "code",
   "execution_count": 39,
   "metadata": {},
   "outputs": [
    {
     "name": "stdout",
     "output_type": "stream",
     "text": [
      "Vietnamese\n"
     ]
    }
   ],
   "source": [
    "def category_from_output(output):\n",
    "    category_idx = torch.argmax(output).item()\n",
    "    return all_categories[category_idx]\n",
    "\n",
    "print(category_from_output(output))"
   ]
  },
  {
   "cell_type": "code",
   "execution_count": 40,
   "metadata": {},
   "outputs": [],
   "source": [
    "criterion = nn.NLLLoss()\n",
    "learning_rate = 0.005\n",
    "optimizer = torch.optim.SGD(rnn.parameters(), lr = learning_rate)"
   ]
  },
  {
   "cell_type": "code",
   "execution_count": 55,
   "metadata": {},
   "outputs": [
    {
     "data": {
      "text/plain": [
       "torch.Size([3, 1, 56])"
      ]
     },
     "execution_count": 55,
     "metadata": {},
     "output_type": "execute_result"
    }
   ],
   "source": [
    "linetensor.size()"
   ]
  },
  {
   "cell_type": "code",
   "execution_count": 56,
   "metadata": {},
   "outputs": [
    {
     "data": {
      "text/plain": [
       "3"
      ]
     },
     "execution_count": 56,
     "metadata": {},
     "output_type": "execute_result"
    }
   ],
   "source": [
    "linetensor.size()[0]"
   ]
  },
  {
   "cell_type": "code",
   "execution_count": 57,
   "metadata": {},
   "outputs": [
    {
     "data": {
      "text/plain": [
       "torch.Size([3, 1, 56])"
      ]
     },
     "execution_count": 57,
     "metadata": {},
     "output_type": "execute_result"
    }
   ],
   "source": [
    "linetensor.shape"
   ]
  },
  {
   "cell_type": "code",
   "execution_count": 58,
   "metadata": {},
   "outputs": [
    {
     "data": {
      "text/plain": [
       "3"
      ]
     },
     "execution_count": 58,
     "metadata": {},
     "output_type": "execute_result"
    }
   ],
   "source": [
    "linetensor.shape[0]"
   ]
  },
  {
   "cell_type": "code",
   "execution_count": 59,
   "metadata": {},
   "outputs": [
    {
     "data": {
      "text/plain": [
       "tensor([[0., 0., 0., 0., 0., 0., 0., 0., 0., 0., 0., 0., 0., 0., 0., 0., 0., 0.,\n",
       "         0., 0., 0., 0., 0., 0., 0., 0., 0., 0., 0., 0., 0., 0., 0., 0., 0., 0.,\n",
       "         0., 1., 0., 0., 0., 0., 0., 0., 0., 0., 0., 0., 0., 0., 0., 0., 0., 0.,\n",
       "         0., 0.]])"
      ]
     },
     "execution_count": 59,
     "metadata": {},
     "output_type": "execute_result"
    }
   ],
   "source": [
    "linetensor[0]"
   ]
  },
  {
   "cell_type": "code",
   "execution_count": 60,
   "metadata": {},
   "outputs": [],
   "source": [
    "def train(line_tensor, category_tensor):\n",
    "    hidden = rnn.init_hidden()\n",
    "    \n",
    "    for i in range(linetensor.shape[0]):\n",
    "        output, hidden, combined = rnn(line_tensor[i],hidden)\n",
    "        \n",
    "    loss = criterion(output, category_tensor)\n",
    "    \n",
    "    optimizer.zero_grad()\n",
    "    loss.backward()\n",
    "    optimizer.step()\n",
    "    \n",
    "    return output,  loss.item()\n",
    "\n"
   ]
  },
  {
   "cell_type": "code",
   "execution_count": 64,
   "metadata": {},
   "outputs": [
    {
     "name": "stdout",
     "output_type": "stream",
     "text": [
      "4999 4.999 1.6635An/Koreanwrong (Vietnamese)\n",
      "9999 9.998999999999999 2.2836Filipek/Czechwrong (Polish)\n",
      "14999 14.999 1.3271Cha/Vietnamesewrong (Korean)\n",
      "19999 19.999 2.4567Nijo/Chinesewrong (Japanese)\n",
      "24999 24.999 1.5146Cabral/Arabicwrong (Portuguese)\n",
      "29999 29.999 1.4203Westerberg/Dutchwrong (German)\n",
      "34999 34.999 0.8956Chong/Chinesewrong (Korean)\n",
      "39999 39.999 1.2218Awduloff/Russiancorrect\n",
      "44999 44.999 7.6112Kokkali/Japanesewrong (Greek)\n",
      "49999 49.999 3.2621Denis/Greekwrong (French)\n",
      "54999 54.998999999999995 0.3216Ryoo/Koreancorrect\n",
      "59999 59.999 2.8124Huroshvili/Italianwrong (Russian)\n",
      "64999 64.999 0.5746Jeon/Koreancorrect\n",
      "69999 69.999 1.5421Magalhaes/Portuguesecorrect\n",
      "74999 74.99900000000001 1.8621Chu/Vietnamesewrong (Korean)\n",
      "79999 79.999 2.3656OShea/Koreanwrong (Irish)\n",
      "84999 84.999 2.6160Heintze/Frenchwrong (German)\n",
      "89999 89.999 0.0072Brisimitzakis/Greekcorrect\n",
      "94999 94.999 0.1993Sumitimo/Japanesecorrect\n",
      "99999 99.99900000000001 0.2641Bahar/Arabiccorrect\n"
     ]
    },
    {
     "data": {
      "image/png": "[encoded data removed]",
      "text/plain": [
       "<Figure size 432x288 with 1 Axes>"
      ]
     },
     "metadata": {
      "needs_background": "light"
     },
     "output_type": "display_data"
    },
    {
     "name": "stdout",
     "output_type": "stream",
     "text": [
      "Wall time: 9min 11s\n"
     ]
    }
   ],
   "source": [
    "%%time\n",
    "current_loss = 0\n",
    "all_losses= []\n",
    "plot_steps, print_steps = 1000,5000\n",
    "n_iters =  100000\n",
    " \n",
    "for i in range(n_iters):\n",
    "    category, line, category_tensor, linetensor = random_train_example(category_lines, all_categories)\n",
    "    \n",
    "    output, loss =  train(linetensor, category_tensor)\n",
    "    current_loss +=loss\n",
    "    \n",
    "    if (i+1) % plot_steps ==0:\n",
    "        all_losses.append(current_loss/plot_steps)\n",
    "        current_loss = 0\n",
    "        \n",
    "    if (i+1) % print_steps == 0:\n",
    "        guess = category_from_output(output)\n",
    "        correct = 'correct' if guess ==  category else f'wrong ({category})'\n",
    "        print(f'{i} {i/n_iters*100} {loss:.4f}{line}/{guess}{correct}')\n",
    "        \n",
    "plt.figure()\n",
    "plt.plot(all_losses)\n",
    "plt.show()\n"
   ]
  }
 ],
 "metadata": {
  "kernelspec": {
   "display_name": "Python 3",
   "language": "python",
   "name": "python3"
  },
  "language_info": {
   "codemirror_mode": {
    "name": "ipython",
    "version": 3
   },
   "file_extension": ".py",
   "mimetype": "text/x-python",
   "name": "python",
   "nbconvert_exporter": "python",
   "pygments_lexer": "ipython3",
   "version": "3.8.5"
  },
  "toc": {
   "base_numbering": 1,
   "nav_menu": {},
   "number_sections": true,
   "sideBar": true,
   "skip_h1_title": false,
   "title_cell": "Table of Contents",
   "title_sidebar": "Contents",
   "toc_cell": false,
   "toc_position": {},
   "toc_section_display": true,
   "toc_window_display": false
  }
 },
 "nbformat": 4,
 "nbformat_minor": 4
}
